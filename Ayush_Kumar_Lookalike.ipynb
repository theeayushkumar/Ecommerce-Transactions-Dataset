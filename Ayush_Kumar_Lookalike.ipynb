{
 "cells": [
  {
   "cell_type": "code",
   "execution_count": 1,
   "id": "d80adfba",
   "metadata": {},
   "outputs": [],
   "source": [
    "# Import necessary libraries\n",
    "import pandas as pd\n",
    "import numpy as np\n",
    "from sklearn.preprocessing import StandardScaler\n",
    "from sklearn.metrics.pairwise import cosine_similarity\n"
   ]
  },
  {
   "cell_type": "code",
   "execution_count": 2,
   "id": "d1e95b06",
   "metadata": {},
   "outputs": [],
   "source": [
    "# Load your data (adjust paths accordingly)\n",
    "customers = pd.read_csv('Project/Customers.csv')\n",
    "products = pd.read_csv('Project/Products.csv')\n",
    "transactions = pd.read_csv('Project/Transactions.csv')"
   ]
  },
  {
   "cell_type": "code",
   "execution_count": 3,
   "id": "2172216e",
   "metadata": {},
   "outputs": [],
   "source": [
    "# Aggregating transaction data for each customer (already done earlier)\n",
    "customer_transactions = transactions.groupby('CustomerID').agg(\n",
    "    total_spend=('TotalValue', 'sum'),\n",
    "    total_transactions=('TransactionID', 'nunique'),\n",
    "    avg_quantity=('Quantity', 'mean')\n",
    ").reset_index()\n"
   ]
  },
  {
   "cell_type": "code",
   "execution_count": 4,
   "id": "b03699e8",
   "metadata": {},
   "outputs": [],
   "source": [
    "# Merge the aggregated data with customer demographic data\n",
    "customer_data = customers[['CustomerID', 'Region']]\n",
    "customer_data = customer_data.merge(customer_transactions, on='CustomerID', how='left')"
   ]
  },
  {
   "cell_type": "code",
   "execution_count": 5,
   "id": "88dc66f9",
   "metadata": {},
   "outputs": [],
   "source": [
    "# Encode categorical columns (Region) using one-hot encoding\n",
    "customer_data = pd.get_dummies(customer_data, columns=['Region'], drop_first=True)\n"
   ]
  },
  {
   "cell_type": "code",
   "execution_count": 6,
   "id": "260e39a5",
   "metadata": {},
   "outputs": [],
   "source": [
    "# Select only numeric columns for scaling\n",
    "numeric_columns = customer_data.select_dtypes(include=[np.number]).columns\n",
    "customer_data[numeric_columns] = customer_data[numeric_columns].fillna(0)  # Handle missing values if any"
   ]
  },
  {
   "cell_type": "code",
   "execution_count": 7,
   "id": "df934e6f",
   "metadata": {},
   "outputs": [],
   "source": [
    "# Standardizing the data (scaling)\n",
    "scaler = StandardScaler()\n",
    "customer_data_scaled = scaler.fit_transform(customer_data[numeric_columns])"
   ]
  },
  {
   "cell_type": "code",
   "execution_count": 8,
   "id": "202736c8",
   "metadata": {},
   "outputs": [],
   "source": [
    "# Now compute cosine similarity between customers\n",
    "cosine_sim = cosine_similarity(customer_data_scaled)"
   ]
  },
  {
   "cell_type": "code",
   "execution_count": 9,
   "id": "ec8bf1ce",
   "metadata": {},
   "outputs": [
    {
     "name": "stdout",
     "output_type": "stream",
     "text": [
      "(200, 200)\n"
     ]
    }
   ],
   "source": [
    "# Check the shape to verify\n",
    "print(cosine_sim.shape)"
   ]
  },
  {
   "cell_type": "code",
   "execution_count": 10,
   "id": "cd130dad",
   "metadata": {},
   "outputs": [],
   "source": [
    "cosine_sim_df = pd.DataFrame(cosine_sim, index=customer_data['CustomerID'], columns=customer_data['CustomerID'])"
   ]
  },
  {
   "cell_type": "code",
   "execution_count": 11,
   "id": "86251f30",
   "metadata": {},
   "outputs": [],
   "source": [
    "lookalikes = {}"
   ]
  },
  {
   "cell_type": "code",
   "execution_count": 12,
   "id": "e92faa53",
   "metadata": {},
   "outputs": [],
   "source": [
    "for customer_id in customer_data['CustomerID']:\n",
    "    # Get the similarity scores for this customer\n",
    "    similarity_scores = cosine_sim_df.loc[customer_id]\n",
    "    \n",
    "    # Exclude the customer themselves by setting their score to 0\n",
    "    similarity_scores = similarity_scores.drop(customer_id)\n",
    "    \n",
    "    # Sort the customers by similarity score in descending order and get the top 3\n",
    "    top_3_customers = similarity_scores.nlargest(3)\n",
    "    \n",
    "    # Store the top 3 customers and their similarity scores\n",
    "    lookalikes[customer_id] = list(zip(top_3_customers.index, top_3_customers.values))"
   ]
  },
  {
   "cell_type": "code",
   "execution_count": 13,
   "id": "b2316cd1",
   "metadata": {},
   "outputs": [
    {
     "name": "stdout",
     "output_type": "stream",
     "text": [
      "Customer C0001 Lookalikes: [('C0103', 0.9997508221712416), ('C0164', 0.9994623722507264), ('C0069', 0.9963114139971576)]\n",
      "Customer C0002 Lookalikes: [('C0029', 0.9998159465033968), ('C0031', 0.9992104284992624), ('C0077', 0.9847869854010873)]\n",
      "Customer C0003 Lookalikes: [('C0176', 0.996972996652657), ('C0070', 0.9720529437012835), ('C0144', 0.9632379124271557)]\n",
      "Customer C0004 Lookalikes: [('C0075', 0.9962137508984765), ('C0113', 0.9851817872638582), ('C0012', 0.9826629066609655)]\n",
      "Customer C0005 Lookalikes: [('C0131', 0.9995372589255568), ('C0186', 0.9961995386096014), ('C0150', 0.9954743267751809)]\n"
     ]
    }
   ],
   "source": [
    "for customer_id in list(lookalikes.keys())[:5]:\n",
    "    print(f\"Customer {customer_id} Lookalikes: {lookalikes[customer_id]}\")"
   ]
  },
  {
   "cell_type": "code",
   "execution_count": 14,
   "id": "75c472cb",
   "metadata": {},
   "outputs": [],
   "source": [
    "lookalike_list = []\n",
    "for customer_id, similar_customers in lookalikes.items():\n",
    "    for similar_customer, score in similar_customers:\n",
    "        lookalike_list.append([customer_id, similar_customer, score])"
   ]
  },
  {
   "cell_type": "code",
   "execution_count": 15,
   "id": "1caffbec",
   "metadata": {},
   "outputs": [],
   "source": [
    "lookalike_df = pd.DataFrame(lookalike_list, columns=['CustomerID', 'LookalikeCustomerID', 'SimilarityScore'])"
   ]
  },
  {
   "cell_type": "code",
   "execution_count": 16,
   "id": "26ccf1cf",
   "metadata": {},
   "outputs": [],
   "source": [
    "lookalike_df.to_csv('Lookalike.csv', index=False)"
   ]
  },
  {
   "cell_type": "code",
   "execution_count": null,
   "id": "2177aa82",
   "metadata": {},
   "outputs": [],
   "source": []
  }
 ],
 "metadata": {
  "kernelspec": {
   "display_name": "Python 3 (ipykernel)",
   "language": "python",
   "name": "python3"
  },
  "language_info": {
   "codemirror_mode": {
    "name": "ipython",
    "version": 3
   },
   "file_extension": ".py",
   "mimetype": "text/x-python",
   "name": "python",
   "nbconvert_exporter": "python",
   "pygments_lexer": "ipython3",
   "version": "3.11.5"
  }
 },
 "nbformat": 4,
 "nbformat_minor": 5
}
